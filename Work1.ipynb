{
  "nbformat": 4,
  "nbformat_minor": 0,
  "metadata": {
    "colab": {
      "provenance": []
    },
    "kernelspec": {
      "name": "python3",
      "display_name": "Python 3"
    },
    "language_info": {
      "name": "python"
    }
  },
  "cells": [
    {
      "cell_type": "markdown",
      "source": [
        "# **Задание 1**"
      ],
      "metadata": {
        "id": "khHlx62oa2yv"
      }
    },
    {
      "cell_type": "code",
      "source": [
        "import numpy as np\n",
        "\n",
        "class CNB:\n",
        "\n",
        "  def __init__(self):\n",
        "    self.apr = {}\n",
        "    self.feature_probs = {}\n",
        "\n",
        "  def fit(self, X_train, y_train):\n",
        "\n",
        "    classesNumber = len(set(y_train))\n",
        "\n",
        "    #априорная вероятность класса\n",
        "    self.all_classes = list(set(y_train))\n",
        "    self.apr = [[i, list(y_train).count(i)/len(y_train)] for i in self.all_classes]\n",
        "\n",
        "    self.all_classes = np.array(self.all_classes)\n",
        "\n",
        "    X_train =  np.array(X_train)\n",
        "    y_train = np.array(y_train)\n",
        "\n",
        "    self.apr = dict(self.apr)\n",
        "\n",
        "    #вероятность признаков каждого класса\n",
        "    extra_arr = []\n",
        "    for j in range(len(X_train[0])):\n",
        "      extra_arr.append([])\n",
        "      for i in range(len(X_train)):\n",
        "        extra_arr[j].append(X_train[i][j])\n",
        "      extra_arr[j] = list(set(extra_arr[j]))\n",
        "\n",
        "\n",
        "    all = dict(Counter(y_train).most_common())\n",
        "    for one_class in list(set(y_train)):\n",
        "      arr = []\n",
        "      for j in range(len(X_train[0])):\n",
        "        arr.append({ex : 0.0 for ex in extra_arr[j]})\n",
        "        for i in range(len(X_train)):\n",
        "          if y_train[i] == one_class:\n",
        "            arr[j][X_train[i][j]] += 1\n",
        "        for i in arr[j]:\n",
        "          arr[j][i] = arr[j][i]/all[one_class]\n",
        "      self.feature_probs[one_class] = arr\n",
        "\n",
        "  def predict_proba(self, X):\n",
        "    a = 1\n",
        "    probs = np.zeros((X.shape[0], len(self.all_classes)))\n",
        "\n",
        "    for i, one_class in enumerate(self.all_classes):\n",
        "      # Вероятности признаков для текущего класса\n",
        "      feature_prob = self.feature_probs[one_class]\n",
        "      probs_class = np.full(X.shape[0], self.apr[one_class])\n",
        "      for j in range(X.shape[1]):\n",
        "          # Вычисляю вероятности для каждого признака в данном классе\n",
        "          probs_class *= [feature_prob[j].get(value, a) for value in X[:, j]]\n",
        "      probs[:, i] = probs_class\n",
        "    # Возвращаю нормализованные вероятности для каждого класса, поделив на сумму вероятностей по строкам\n",
        "    return probs/np.sum(probs, axis=1, keepdims=True)\n",
        "\n",
        "  def predict(self, X):\n",
        "    return np.argmax(self.predict_proba(X), axis=1)\n",
        "\n",
        "  def score(self, X, y):\n",
        "    return np.mean(self.predict(X) == y)\n"
      ],
      "metadata": {
        "id": "g5XKFMGm6gam"
      },
      "execution_count": null,
      "outputs": []
    },
    {
      "cell_type": "code",
      "source": [
        "from sklearn.utils import Bunch\n",
        "from sklearn.preprocessing import OrdinalEncoder\n",
        "from sklearn.model_selection import train_test_split\n",
        "import pandas as pd\n",
        "import numpy as np\n",
        "from sklearn.metrics import accuracy_score\n",
        "from sklearn.naive_bayes import CategoricalNB\n",
        "\n",
        "myDataset = pd.read_csv('/content/drive/MyDrive/Machine learning/Юрченко.csv')\n",
        "\n",
        "myDataset_numpy = myDataset.to_numpy()\n",
        "\n",
        "\n",
        "myDataset.drop(columns = [\"Unnamed: 0\"])\n",
        "\n",
        "dataset = Bunch()\n",
        "encoder = OrdinalEncoder()\n",
        "data_encoded = encoder.fit_transform(myDataset_numpy)\n",
        "\n",
        "dataset.data = data_encoded[:, :-1]\n",
        "dataset.target = data_encoded[:, -1]\n",
        "\n",
        "dataset.DESCR = \"MyDataset\"\n",
        "dataset.target_names = np.unique(dataset.target)\n",
        "\n",
        "\n",
        "X_train, X_test, y_train, y_test = train_test_split(dataset.data, dataset.target, test_size=0.3)\n",
        "\n",
        "\n",
        "test = CategoricalNB()\n",
        "test.fit(X_train, y_train)\n",
        "accuracy = accuracy_score(y_test, test.predict(X_test)) * 100\n",
        "print(accuracy)"
      ],
      "metadata": {
        "colab": {
          "base_uri": "https://localhost:8080/"
        },
        "id": "hkaMKftWbZes",
        "outputId": "42d8e0ee-3396-42dc-fcac-21c9e4e5f29e"
      },
      "execution_count": null,
      "outputs": [
        {
          "output_type": "stream",
          "name": "stdout",
          "text": [
            "79.33333333333333\n"
          ]
        }
      ]
    },
    {
      "cell_type": "markdown",
      "source": [
        "# Задание 2"
      ],
      "metadata": {
        "id": "JcPtllRgbCSN"
      }
    },
    {
      "cell_type": "code",
      "source": [
        "from sklearn.datasets import load_digits\n",
        "from sklearn.datasets import load_iris\n",
        "from sklearn.datasets import load_wine\n",
        "from sklearn.datasets import load_breast_cancer\n",
        "from sklearn.naive_bayes import CategoricalNB\n",
        "from sklearn.naive_bayes import GaussianNB, MultinomialNB, ComplementNB, BernoulliNB, CategoricalNB\n",
        "\n",
        "digits = load_digits()\n",
        "canser = load_breast_cancer()\n",
        "iris = load_iris()\n",
        "wine = load_wine()\n",
        "\n",
        "A, B, C, D = GaussianNB(), MultinomialNB(), ComplementNB(), BernoulliNB()\n",
        "everything = {\"Цифры\": digits, \"Рак\":canser, \"Ирисы\":iris, \"Вино\":wine, \"Мой датасет\": dataset}\n",
        "methods = {\"GaussianNB\":A, \"MultinomialNB\": B, \"ComplementNB\" :C, \"BernoulliNB\": D}\n",
        "\n",
        "\n",
        "for one in everything:\n",
        "  print(\"--------------------------------------------------------------------------------------\")\n",
        "  print(\"Датасет \", one)\n",
        "  best_method = \"GaussianNB\"\n",
        "  best_accuracy = 0\n",
        "  for method in methods:\n",
        "\n",
        "    X = everything[one].data\n",
        "    y = everything[one].target\n",
        "    X_train, X_test, y_train, y_test = train_test_split(X, y, test_size=0.3)\n",
        "    methods[method].fit(X_train, y_train)\n",
        "    accuracy = accuracy_score(y_test, methods[method].predict(X_test))\n",
        "    print(\"Метод: \", method)\n",
        "    print(\"Точность методом accuracy_score:\", accuracy)\n",
        "    if best_accuracy < accuracy:\n",
        "      best_accuracy = accuracy\n",
        "      best_method = method\n",
        "  if one == \"Мой датасет\":\n",
        "    test = CategoricalNB()\n",
        "    test.fit(X_train, y_train)\n",
        "    accuracy = accuracy_score(y_test, test.predict(X_test))\n",
        "    print(\"Метод: \", \"CategoricalNB\")\n",
        "    print(\"Точность методом accuracy_score:\", accuracy)\n",
        "    if best_accuracy < accuracy:\n",
        "      best_accuracy = accuracy\n",
        "      best_method = \"CategoricalNB\"\n",
        "  print(\"--------------------------------------------------------------------------------------\")\n",
        "  print(f\"Лучший метод {best_method} с точностью {best_accuracy}\")\n",
        "  print(\"--------------------------------------------------------------------------------------\")\n",
        "\n",
        "\n",
        "\n"
      ],
      "metadata": {
        "colab": {
          "base_uri": "https://localhost:8080/"
        },
        "id": "_IRd9c0kbZ32",
        "outputId": "b83bd390-53a5-4e18-ef77-ba19e892a9eb"
      },
      "execution_count": null,
      "outputs": [
        {
          "output_type": "stream",
          "name": "stdout",
          "text": [
            "--------------------------------------------------------------------------------------\n",
            "Датасет  Цифры\n",
            "Метод:  GaussianNB\n",
            "Точность методом accuracy_score: 0.8351851851851851\n",
            "Метод:  MultinomialNB\n",
            "Точность методом accuracy_score: 0.8981481481481481\n",
            "Метод:  ComplementNB\n",
            "Точность методом accuracy_score: 0.825925925925926\n",
            "Метод:  BernoulliNB\n",
            "Точность методом accuracy_score: 0.8666666666666667\n",
            "--------------------------------------------------------------------------------------\n",
            "Лучший метод MultinomialNB с точностью 0.8981481481481481\n",
            "--------------------------------------------------------------------------------------\n",
            "--------------------------------------------------------------------------------------\n",
            "Датасет  Рак\n",
            "Метод:  GaussianNB\n",
            "Точность методом accuracy_score: 0.9181286549707602\n",
            "Метод:  MultinomialNB\n",
            "Точность методом accuracy_score: 0.8596491228070176\n",
            "Метод:  ComplementNB\n",
            "Точность методом accuracy_score: 0.8888888888888888\n",
            "Метод:  BernoulliNB\n",
            "Точность методом accuracy_score: 0.6666666666666666\n",
            "--------------------------------------------------------------------------------------\n",
            "Лучший метод GaussianNB с точностью 0.9181286549707602\n",
            "--------------------------------------------------------------------------------------\n",
            "--------------------------------------------------------------------------------------\n",
            "Датасет  Ирисы\n",
            "Метод:  GaussianNB\n",
            "Точность методом accuracy_score: 0.9777777777777777\n",
            "Метод:  MultinomialNB\n",
            "Точность методом accuracy_score: 0.5333333333333333\n",
            "Метод:  ComplementNB\n",
            "Точность методом accuracy_score: 0.6444444444444445\n",
            "Метод:  BernoulliNB\n",
            "Точность методом accuracy_score: 0.28888888888888886\n",
            "--------------------------------------------------------------------------------------\n",
            "Лучший метод GaussianNB с точностью 0.9777777777777777\n",
            "--------------------------------------------------------------------------------------\n",
            "--------------------------------------------------------------------------------------\n",
            "Датасет  Вино\n",
            "Метод:  GaussianNB\n",
            "Точность методом accuracy_score: 0.9814814814814815\n",
            "Метод:  MultinomialNB\n",
            "Точность методом accuracy_score: 0.8888888888888888\n",
            "Метод:  ComplementNB\n",
            "Точность методом accuracy_score: 0.7777777777777778\n",
            "Метод:  BernoulliNB\n",
            "Точность методом accuracy_score: 0.2222222222222222\n",
            "--------------------------------------------------------------------------------------\n",
            "Лучший метод GaussianNB с точностью 0.9814814814814815\n",
            "--------------------------------------------------------------------------------------\n",
            "--------------------------------------------------------------------------------------\n",
            "Датасет  Мой датасет\n",
            "Метод:  GaussianNB\n",
            "Точность методом accuracy_score: 0.6\n",
            "Метод:  MultinomialNB\n",
            "Точность методом accuracy_score: 0.5033333333333333\n",
            "Метод:  ComplementNB\n",
            "Точность методом accuracy_score: 0.38333333333333336\n",
            "Метод:  BernoulliNB\n",
            "Точность методом accuracy_score: 0.6\n",
            "Метод:  CategoricalNB\n",
            "Точность методом accuracy_score: 0.8533333333333334\n",
            "--------------------------------------------------------------------------------------\n",
            "Лучший метод CategoricalNB с точностью 0.8533333333333334\n",
            "--------------------------------------------------------------------------------------\n"
          ]
        }
      ]
    },
    {
      "cell_type": "markdown",
      "source": [
        "# Тест"
      ],
      "metadata": {
        "id": "ZGuULsmIbWZl"
      }
    },
    {
      "cell_type": "code",
      "execution_count": null,
      "metadata": {
        "id": "IT3jmzbl5bj6",
        "colab": {
          "base_uri": "https://localhost:8080/"
        },
        "outputId": "59ba9a2d-2321-4564-8da3-dbeba80a2f89"
      },
      "outputs": [
        {
          "output_type": "execute_result",
          "data": {
            "text/plain": [
              "0.7733333333333333"
            ]
          },
          "metadata": {},
          "execution_count": 149
        }
      ],
      "source": [
        "import pandas as pd\n",
        "from sklearn.naive_bayes import CategoricalNB as cnb\n",
        "from sklearn.model_selection import train_test_split\n",
        "\n",
        "myDataset = pd.read_csv('/content/drive/MyDrive/Machine learning/Юрченко.csv')\n",
        "\n",
        "x_1 = list(myDataset['colour'])\n",
        "x_2 = list(myDataset['height'])\n",
        "x_3 = list(myDataset['shape'])\n",
        "x_4 = list(myDataset['density'])\n",
        "x_5 = list(myDataset['available'])\n",
        "\n",
        "y_1 = list(myDataset['demand'])\n",
        "\n",
        "def preproc(arr):\n",
        "  extra = list(set(arr))\n",
        "  res = []\n",
        "  for i in range(len(arr)):\n",
        "    indx = extra.index(arr[i])\n",
        "    res.append(indx)\n",
        "  return res, extra\n",
        "\n",
        "def unpreproc(arr, key):\n",
        "  res = []\n",
        "  for i in range(len(arr)):\n",
        "    res.append(key[arr[i]])\n",
        "  return res\n",
        "\n",
        "_x_1, key1 = preproc(x_1)\n",
        "#print(\"\\n\", x_1)\n",
        "#print(\"\\n\", key1)\n",
        "#print(\"\\n\", _x_1)\n",
        "#print(\"\\n\", unpreproc(_x_1, key1))\n",
        "_x_2, key2 = preproc(x_2)\n",
        "_x_3, key3 = preproc(x_3)\n",
        "_x_4, key4 = preproc(x_4)\n",
        "_x_5, key5 = preproc(x_5)\n",
        "\n",
        "_y_1, y_key1 = preproc(y_1)\n",
        "\n",
        "X = [ [_x_1[i], _x_2[i], _x_3[i], _x_4[i], _x_5[i]] for i in range(0, len(_x_1))]\n",
        "y = _y_1\n",
        "\n",
        "X_train, X_test, y_train, y_test = train_test_split( X, y, test_size=0.3)\n",
        "\n",
        "#print(X)\n",
        "\n",
        "test = cnb()\n",
        "test.fit(X_train, y_train)\n",
        "\n",
        "test.score(X_test,y_test)\n",
        "\n"
      ]
    },
    {
      "cell_type": "code",
      "source": [
        "import numpy as np\n",
        "from collections import Counter\n",
        "\n",
        "\n",
        "X = [[3, 5, 6], [2, 4, 6], [1, 3, 6], [2, 5, 6]]\n",
        "y = [1, 4, 4, 2]\n",
        "\n",
        "prob = {}\n",
        "for one_class in list(set(y)):\n",
        "  arr = []\n",
        "  for j in range(len(X[0])):\n",
        "    arr.append([])\n",
        "    for i in range(len(X)):\n",
        "      if y[i] == one_class:\n",
        "        arr[j].append(X[i][j])\n",
        "  for k in range(len(arr)):\n",
        "    arr[k] = Counter(arr[k]).most_common()\n",
        "  prob[one_class] = arr\n",
        "\n",
        "extra_arr = []\n",
        "for j in range(len(X[0])):\n",
        "    extra_arr.append([])\n",
        "    for i in range(len(X)):\n",
        "      extra_arr[j].append(X[i][j])\n",
        "    extra_arr[j] = list(set(extra_arr[j]))\n",
        "\n",
        "all = dict(Counter(y).most_common())\n",
        "feature_probs = {}\n",
        "\n",
        "\n",
        "arr = []\n",
        "for one_class in list(set(y)):\n",
        "  arr = []\n",
        "  for i in range(len(prob[one_class])):\n",
        "    arr.append({})\n",
        "    for j in range(len(prob[one_class][i])):\n",
        "      arr[i][prob[one_class][i][j][0]] = prob[one_class][i][j][1]/all[one_class]\n",
        "  feature_probs[one_class] = arr\n",
        "\n",
        "# for one_class in list(set(y)):\n",
        "#   for i in range(len(feature_probs[one_class])):\n",
        "#     for j in range(len(extra_arr)):\n",
        "#       for k in range(len(extra_arr[j])):\n",
        "#         if extra_arr[j][k] not in feature_probs[one_class][i]:\n",
        "#           feature_probs[one_class][i][extra_arr[j][k]] = 0.0\n",
        "\n",
        "\n",
        "print(prob)\n",
        "\n",
        "\n",
        "\n",
        "\n",
        "\n",
        "\n",
        "\n",
        "\n",
        "\n"
      ],
      "metadata": {
        "colab": {
          "base_uri": "https://localhost:8080/"
        },
        "id": "b905IqHZgF4H",
        "outputId": "050a3b8e-be6f-4b00-e245-a021bd1e3dac"
      },
      "execution_count": null,
      "outputs": [
        {
          "output_type": "stream",
          "name": "stdout",
          "text": [
            "{1: [[(3, 1)], [(5, 1)], [(6, 1)]], 2: [[(2, 1)], [(5, 1)], [(6, 1)]], 4: [[(2, 1), (1, 1)], [(4, 1), (3, 1)], [(6, 2)]]}\n"
          ]
        }
      ]
    },
    {
      "cell_type": "code",
      "source": [
        "import numpy as np\n",
        "from collections import Counter\n",
        "\n",
        "\n",
        "X = [[3, 5, 6], [2, 4, 6], [2, 3, 6], [2, 5, 6]]\n",
        "y = [1, 4, 4, 2]\n",
        "\n",
        "extra_arr = []\n",
        "for j in range(len(X[0])):\n",
        "  extra_arr.append([])\n",
        "  for i in range(len(X)):\n",
        "    extra_arr[j].append(X[i][j])\n",
        "  extra_arr[j] = list(set(extra_arr[j]))\n",
        "\n",
        "\n",
        "all = dict(Counter(y).most_common())\n",
        "prob = {}\n",
        "for one_class in list(set(y)):\n",
        "  arr = []\n",
        "  for j in range(len(X[0])):\n",
        "    arr.append({ex : 0.0 for ex in extra_arr[j]})\n",
        "    for i in range(len(X)):\n",
        "      if y[i] == one_class:\n",
        "        arr[j][X[i][j]] += 1\n",
        "    for i in arr[j]:\n",
        "      arr[j][i] = arr[j][i]/all[one_class]\n",
        "  prob[one_class] = arr\n",
        "\n",
        "\n",
        "\n",
        "\n",
        "print(prob)"
      ],
      "metadata": {
        "colab": {
          "base_uri": "https://localhost:8080/"
        },
        "id": "Ir0qr_COTmgX",
        "outputId": "1acb509e-0887-4492-f86c-a1b099b0335a"
      },
      "execution_count": null,
      "outputs": [
        {
          "output_type": "stream",
          "name": "stdout",
          "text": [
            "{1: [{2: 0.0, 3: 1.0}, {3: 0.0, 4: 0.0, 5: 1.0}, {6: 1.0}], 2: [{2: 1.0, 3: 0.0}, {3: 0.0, 4: 0.0, 5: 1.0}, {6: 1.0}], 4: [{2: 1.0, 3: 0.0}, {3: 0.5, 4: 0.5, 5: 0.0}, {6: 1.0}]}\n"
          ]
        }
      ]
    }
  ]
}